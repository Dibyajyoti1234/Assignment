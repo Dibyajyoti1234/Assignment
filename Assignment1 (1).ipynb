{
 "cells": [
  {
   "cell_type": "markdown",
   "id": "0efceb8c-87a3-48d2-b094-853e9c4784eb",
   "metadata": {},
   "source": [
    "1.Guido van Rossum"
   ]
  },
  {
   "cell_type": "markdown",
   "id": "8978bd95-469a-4807-805d-c4fd19b9e9b1",
   "metadata": {},
   "source": [
    "2.object-oriented prograamming language"
   ]
  },
  {
   "cell_type": "markdown",
   "id": "8e001307-ec32-425e-80ae-7c80b01e41fc",
   "metadata": {},
   "source": [
    "3.yes"
   ]
  },
  {
   "cell_type": "markdown",
   "id": "65e3c40b-cadb-42f4-8ea0-1ab33fdd0827",
   "metadata": {},
   "source": [
    "4..py"
   ]
  },
  {
   "cell_type": "markdown",
   "id": "35777cbf-f288-4f57-9b1c-8cf67ab948f4",
   "metadata": {},
   "source": [
    "5.interprited"
   ]
  },
  {
   "cell_type": "markdown",
   "id": "f7855e05-1406-4229-ae87-b0e776d01561",
   "metadata": {},
   "source": [
    "6.indentation"
   ]
  },
  {
   "cell_type": "markdown",
   "id": "9c54d0c9-3ed8-4f62-b7b3-43175024d174",
   "metadata": {},
   "source": [
    "7.#"
   ]
  },
  {
   "cell_type": "markdown",
   "id": "7dd6d876-fdf6-4ca8-8378-6bf714d13d63",
   "metadata": {},
   "source": [
    "8.python_version()"
   ]
  },
  {
   "cell_type": "markdown",
   "id": "0aa8da48-09dc-47e9-9828-00ff325a0f94",
   "metadata": {},
   "source": [
    "9.lambda"
   ]
  },
  {
   "cell_type": "markdown",
   "id": "172dbed9-f554-4cdc-a0ac-e27b842998f9",
   "metadata": {},
   "source": [
    "10.preferred installer program"
   ]
  },
  {
   "cell_type": "markdown",
   "id": "1c2c7e9e-7dfe-4605-a805-c92cd4f230ae",
   "metadata": {},
   "source": [
    "11.type(),len()"
   ]
  },
  {
   "cell_type": "markdown",
   "id": "edb16bbe-a3ab-4419-867b-6e648a4414e5",
   "metadata": {},
   "source": [
    "12.79 character"
   ]
  },
  {
   "cell_type": "markdown",
   "id": "8aafb301-92db-441e-b989-c914c926c2c3",
   "metadata": {},
   "source": [
    "13.dynamically typed\n",
    "   free and open source\n",
    "   portable and simple"
   ]
  },
  {
   "cell_type": "markdown",
   "id": "16e64517-fcd2-4279-b164-7408759eafc3",
   "metadata": {},
   "source": [
    "14.memory management in python involves a private heap cointaining all python object and data structure"
   ]
  },
  {
   "cell_type": "code",
   "execution_count": null,
   "id": "733ce755-47ef-4cae-adad-309c879dbe17",
   "metadata": {},
   "outputs": [],
   "source": [
    "15.go to the browser search python and then download the python while installing it gives a option to set path just click on this and then install it\n",
    "\n"
   ]
  }
 ],
 "metadata": {
  "kernelspec": {
   "display_name": "Python 3 (ipykernel)",
   "language": "python",
   "name": "python3"
  },
  "language_info": {
   "codemirror_mode": {
    "name": "ipython",
    "version": 3
   },
   "file_extension": ".py",
   "mimetype": "text/x-python",
   "name": "python",
   "nbconvert_exporter": "python",
   "pygments_lexer": "ipython3",
   "version": "3.10.8"
  }
 },
 "nbformat": 4,
 "nbformat_minor": 5
}
